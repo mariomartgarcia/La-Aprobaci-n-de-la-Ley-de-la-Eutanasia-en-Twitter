{
 "cells": [
  {
   "cell_type": "markdown",
   "metadata": {},
   "source": [
    "# Extracción de los datos"
   ]
  },
  {
   "cell_type": "markdown",
   "metadata": {},
   "source": [
    "En el siguiente documento mostraremos los pasos seguidos para la extracción de los retweets con los hashtags involucrados en el estudio."
   ]
  },
  {
   "cell_type": "markdown",
   "metadata": {},
   "source": [
    "### \"#Eutanasia\""
   ]
  },
  {
   "cell_type": "code",
   "execution_count": 137,
   "metadata": {
    "scrolled": false
   },
   "outputs": [
    {
     "name": "stdout",
     "output_type": "stream",
     "text": [
      "2000\n"
     ]
    }
   ],
   "source": [
    "#---------------------------------------------------------------------------\n",
    "#EUTANASIA 1\n",
    "#---------------------------------------------------------------------------\n",
    "\n",
    "consumer_key = 'XXXXXXXXXXXXXXXXXXXXXXXXX'\n",
    "consumer_secret = 'XXXXXXXXXXXXXXXXXXXXXXXXX'\n",
    "access_token = 'XXXXXXXXXXXXXXXXXXXXXXXXX'\n",
    "access_secret = 'XXXXXXXXXXXXXXXXXXXXXXXXX'\n",
    "auth = tweepy.OAuthHandler(consumer_key, consumer_secret)\n",
    "auth.set_access_token(access_token, access_secret)\n",
    "api = tweepy.API(auth)\n",
    "\n",
    "lista = []\n",
    "\n",
    "#eutanasia 1339584205341114369 15:52\n",
    "#eutanasia 1339696986983964674 23:20\n",
    "\n",
    "date_since = \"2020-12-16\"\n",
    "date_until = \"2020-12-18\"\n",
    "tweets = tweepy.Cursor(api.search,\n",
    "          q=\"#eutanasia filter:retweets\",\n",
    "          lang=\"es\",\n",
    "          place_id = \"España\",           \n",
    "          max_id  = 1339696986983964674).items(2000)\n",
    "for status in tweets:\n",
    "    lista.append(status._json)\n",
    "print(len(lista))"
   ]
  },
  {
   "cell_type": "code",
   "execution_count": 138,
   "metadata": {},
   "outputs": [
    {
     "name": "stdout",
     "output_type": "stream",
     "text": [
      "4000\n"
     ]
    }
   ],
   "source": [
    "#---------------------------------------------------------------------------\n",
    "#EUTANASIA 2\n",
    "#---------------------------------------------------------------------------\n",
    "\n",
    "consumer_key = 'XXXXXXXXXXXXXXXXXXXXXXXXX'\n",
    "consumer_secret = 'XXXXXXXXXXXXXXXXXXXXXXXXX'\n",
    "access_token = 'XXXXXXXXXXXXXXXXXXXXXXXXX'\n",
    "access_secret = 'XXXXXXXXXXXXXXXXXXXXXXXXX'\n",
    "auth = tweepy.OAuthHandler(consumer_key, consumer_secret)\n",
    "auth.set_access_token(access_token, access_secret)\n",
    "api = tweepy.API(auth)\n",
    "\n",
    "tweets = tweepy.Cursor(api.search,\n",
    "          q=\"#eutanasia filter:retweets\",\n",
    "          lang=\"es\",\n",
    "          place_id = \"España\",\n",
    "          max_id = lista[-1]['id'] ).items(2000)\n",
    "for status in tweets:\n",
    "    lista.append(status._json)\n",
    "print(len(lista))"
   ]
  },
  {
   "cell_type": "code",
   "execution_count": 140,
   "metadata": {},
   "outputs": [
    {
     "name": "stdout",
     "output_type": "stream",
     "text": [
      "6000\n"
     ]
    }
   ],
   "source": [
    "#---------------------------------------------------------------------------\n",
    "#EUTANASIA 3\n",
    "#---------------------------------------------------------------------------\n",
    "\n",
    "consumer_key = \"XXXXXXXXXXXXXXXXXXXXXXXXX\"\n",
    "consumer_secret = \"XXXXXXXXXXXXXXXXXXXXXXXXX\"\n",
    "access_token = \"XXXXXXXXXXXXXXXXXXXXXXXXX\"\n",
    "access_secret = \"XXXXXXXXXXXXXXXXXXXXXXXXX\"\n",
    "auth = tweepy.OAuthHandler(consumer_key, consumer_secret)\n",
    "auth.set_access_token(access_token, access_secret)\n",
    "api = tweepy.API(auth)\n",
    "\n",
    "\n",
    "tweets = tweepy.Cursor(api.search,\n",
    "          q=\"#eutanasia filter:retweets\",\n",
    "          lang=\"es\",\n",
    "          place_id = \"España\",\n",
    "          max_id = lista[-1]['id'] ).items(2000)\n",
    "for status in tweets:\n",
    "    lista.append(status._json)\n",
    "print(len(lista))"
   ]
  },
  {
   "cell_type": "code",
   "execution_count": 150,
   "metadata": {},
   "outputs": [
    {
     "name": "stdout",
     "output_type": "stream",
     "text": [
      "8133\n"
     ]
    }
   ],
   "source": [
    "#---------------------------------------------------------------------------\n",
    "#EUTANASIA 4\n",
    "#---------------------------------------------------------------------------\n",
    "\n",
    "consumer_key = 'XXXXXXXXXXXXXXXXXXXXXXXXX'\n",
    "consumer_secret = 'XXXXXXXXXXXXXXXXXXXXXXXXX'\n",
    "access_token = 'XXXXXXXXXXXXXXXXXXXXXXXXX'\n",
    "access_secret = 'XXXXXXXXXXXXXXXXXXXXXXXXX'\n",
    "auth = tweepy.OAuthHandler(consumer_key, consumer_secret)\n",
    "auth.set_access_token(access_token, access_secret)\n",
    "api = tweepy.API(auth)\n",
    "\n",
    "\n",
    "tweets = tweepy.Cursor(api.search,\n",
    "          q=\"#eutanasia filter:retweets\",\n",
    "          lang=\"es\",\n",
    "          place_id = \"España\",\n",
    "          since_id = 1339584205341114369,\n",
    "          max_id = lista[-1]['id']).items()\n",
    "for status in tweets:\n",
    "    lista.append(status._json)\n",
    "print(len(lista))"
   ]
  },
  {
   "cell_type": "markdown",
   "metadata": {},
   "source": [
    "### \"#Por Fin Eutanasia\""
   ]
  },
  {
   "cell_type": "code",
   "execution_count": 80,
   "metadata": {},
   "outputs": [
    {
     "name": "stdout",
     "output_type": "stream",
     "text": [
      "2000\n"
     ]
    }
   ],
   "source": [
    "#---------------------------------------------------------------------------\n",
    "#PorFinEutanasia1\n",
    "#---------------------------------------------------------------------------\n",
    "\n",
    "consumer_key = \"XXXXXXXXXXXXXXXXXXXXXXXXX\"\n",
    "consumer_secret = \"XXXXXXXXXXXXXXXXXXXXXXXXX\"\n",
    "access_token = \"XXXXXXXXXXXXXXXXXXXXXXXXX\"\n",
    "access_secret = \"XXXXXXXXXXXXXXXXXXXXXXXXX\"\n",
    "auth = tweepy.OAuthHandler(consumer_key, consumer_secret)\n",
    "auth.set_access_token(access_token, access_secret)\n",
    "api = tweepy.API(auth)\n",
    "\n",
    "#PorFinEutanasia 1339575549375762432 15:17\n",
    "#PorFinEutanasia 1339703238032035840 23:45\n",
    "\n",
    "\n",
    "lista1 = []\n",
    "tweets = tweepy.Cursor(api.search,\n",
    "          q=\"#PorFinEutanasia filter:retweets\",\n",
    "          lang=\"es\",\n",
    "          place_id = \"España\",           \n",
    "          max_id  = 1339703238032035840).items(2000)\n",
    "for status in tweets:\n",
    "    lista1.append(status._json)\n",
    "print(len(lista1))"
   ]
  },
  {
   "cell_type": "code",
   "execution_count": 85,
   "metadata": {},
   "outputs": [
    {
     "name": "stdout",
     "output_type": "stream",
     "text": [
      "4690\n"
     ]
    }
   ],
   "source": [
    "#---------------------------------------------------------------------------\n",
    "#PorFinEutanasia2\n",
    "#---------------------------------------------------------------------------\n",
    "\n",
    "consumer_key = \"XXXXXXXXXXXXXXXXXXXXXXXXX\"\n",
    "consumer_secret = \"XXXXXXXXXXXXXXXXXXXXXXXXX\"\n",
    "access_token = \"XXXXXXXXXXXXXXXXXXXXXXXXX\"\n",
    "access_secret = \"XXXXXXXXXXXXXXXXXXXXXXXXX\"\n",
    "auth = tweepy.OAuthHandler(consumer_key, consumer_secret)\n",
    "auth.set_access_token(access_token, access_secret)\n",
    "api = tweepy.API(auth)\n",
    "\n",
    "\n",
    "tweets = tweepy.Cursor(api.search,\n",
    "          q=\"#PorFinEutanasia filter:retweets\",\n",
    "          lang=\"es\",\n",
    "          place_id = \"España\",\n",
    "          max_id = lista1[-1]['id']).items(2000)\n",
    "for status in tweets:\n",
    "    lista1.append(status._json)\n",
    "print(len(lista1))"
   ]
  },
  {
   "cell_type": "code",
   "execution_count": 88,
   "metadata": {},
   "outputs": [
    {
     "name": "stdout",
     "output_type": "stream",
     "text": [
      "7888\n"
     ]
    }
   ],
   "source": [
    "#---------------------------------------------------------------------------\n",
    "#PorFinEutanasia3\n",
    "#---------------------------------------------------------------------------\n",
    "\n",
    "consumer_key = 'XXXXXXXXXXXXXXXXXXXXXXXXX'\n",
    "consumer_secret = 'XXXXXXXXXXXXXXXXXXXXXXXXX'\n",
    "access_token = 'XXXXXXXXXXXXXXXXXXXXXXXXX'\n",
    "access_secret = 'XXXXXXXXXXXXXXXXXXXXXXXXX'\n",
    "auth = tweepy.OAuthHandler(consumer_key, consumer_secret)\n",
    "auth.set_access_token(access_token, access_secret)\n",
    "api = tweepy.API(auth)\n",
    "\n",
    "\n",
    "tweets = tweepy.Cursor(api.search,\n",
    "          q=\"#PorFinEutanasia filter:retweets\",\n",
    "          lang=\"es\",\n",
    "          place_id = \"España\",\n",
    "          since_id = 1339575549375762432,\n",
    "          max_id = lista1[-1]['id']).items()\n",
    "for status in tweets:\n",
    "    lista1.append(status._json)\n",
    "print(len(lista1))"
   ]
  },
  {
   "cell_type": "markdown",
   "metadata": {},
   "source": [
    "### \"#VidaDignaMuerteDigna\""
   ]
  },
  {
   "cell_type": "code",
   "execution_count": 116,
   "metadata": {
    "scrolled": true
   },
   "outputs": [
    {
     "name": "stdout",
     "output_type": "stream",
     "text": [
      "2000\n"
     ]
    }
   ],
   "source": [
    "#---------------------------------------------------------------------------\n",
    "#VidaDignaMuerteDigna1\n",
    "#---------------------------------------------------------------------------\n",
    "\n",
    "consumer_key = \"XXXXXXXXXXXXXXXXXXXXXXXXX\"\n",
    "consumer_secret = \"XXXXXXXXXXXXXXXXXXXXXXXXX\"\n",
    "access_token = \"XXXXXXXXXXXXXXXXXXXXXXXXX\"\n",
    "access_secret = \"XXXXXXXXXXXXXXXXXXXXXXXXX\"\n",
    "auth = tweepy.OAuthHandler(consumer_key, consumer_secret)\n",
    "auth.set_access_token(access_token, access_secret)\n",
    "api = tweepy.API(auth)\n",
    "\n",
    "#VidaDignaMuerteDigna 1339705486535520257 23:54 \n",
    "#VidaDignaMuerteDigna 1339590307579449345 16:16\n",
    "\n",
    "\n",
    "lista2 = []\n",
    "tweets = tweepy.Cursor(api.search,\n",
    "          q=\"#VidaDignaMuerteDigna filter:retweets\",\n",
    "          lang=\"es\",\n",
    "          place_id = \"España\",\n",
    "          max_id = 1339705486535520257).items(2000)\n",
    "for status in tweets:\n",
    "    lista2.append(status._json)\n",
    "print(len(lista2))"
   ]
  },
  {
   "cell_type": "code",
   "execution_count": 119,
   "metadata": {},
   "outputs": [
    {
     "name": "stdout",
     "output_type": "stream",
     "text": [
      "2612\n"
     ]
    }
   ],
   "source": [
    "#---------------------------------------------------------------------------\n",
    "#VidaDignaMuerteDigna2\n",
    "#---------------------------------------------------------------------------\n",
    "\n",
    "consumer_key = 'XXXXXXXXXXXXXXXXXXXXXXXXX'\n",
    "consumer_secret = 'XXXXXXXXXXXXXXXXXXXXXXXXX'\n",
    "access_token = 'XXXXXXXXXXXXXXXXXXXXXXXXX'\n",
    "access_secret = 'XXXXXXXXXXXXXXXXXXXXXXXXX'\n",
    "auth = tweepy.OAuthHandler(consumer_key, consumer_secret)\n",
    "auth.set_access_token(access_token, access_secret)\n",
    "api = tweepy.API(auth)\n",
    "\n",
    "tweets = tweepy.Cursor(api.search,\n",
    "          q=\"#VidaDignaMuerteDigna filter:retweets\",\n",
    "          lang=\"es\",\n",
    "          place_id = \"España\",\n",
    "          since_id = 1339590307579449345,\n",
    "          max_id = lista2[-1]['id'] ).items()\n",
    "for status in tweets:\n",
    "    lista2.append(status._json)\n",
    "print(len(lista2))"
   ]
  },
  {
   "cell_type": "markdown",
   "metadata": {},
   "source": [
    "### \"#EutanasiaAsesinatoEncubierto\""
   ]
  },
  {
   "cell_type": "code",
   "execution_count": 124,
   "metadata": {},
   "outputs": [
    {
     "name": "stdout",
     "output_type": "stream",
     "text": [
      "1244\n"
     ]
    }
   ],
   "source": [
    "#---------------------------------------------------------------------------\n",
    "#EutanasiaAsesinatoEncubierto1\n",
    "#---------------------------------------------------------------------------\n",
    "\n",
    "consumer_key = 'XXXXXXXXXXXXXXXXXXXXXXXXX'\n",
    "consumer_secret = 'XXXXXXXXXXXXXXXXXXXXXXXXX'\n",
    "access_token = 'XXXXXXXXXXXXXXXXXXXXXXXXX'\n",
    "access_secret = 'XXXXXXXXXXXXXXXXXXXXXXXXX'\n",
    "auth = tweepy.OAuthHandler(consumer_key, consumer_secret)\n",
    "auth.set_access_token(access_token, access_secret)\n",
    "api = tweepy.API(auth)\n",
    "\n",
    "\n",
    "#EutanasiaAsesinatoEncubierto 1339701526231703554 23:38\n",
    "#EutanasiaAsesinatoEncubierto 1339573671514533890 15:10\n",
    "\n",
    "lista3 = []\n",
    "tweets = tweepy.Cursor(api.search,\n",
    "          q=\"#EutanasiaAsesinatoEncubierto filter:retweets\",\n",
    "          lang=\"es\",\n",
    "          since_id = 1339573671514533890,\n",
    "          max_id = 1339701526231703554 ).items()\n",
    "for status in tweets:\n",
    "    lista3.append(status._json)\n",
    "print(len(lista3))"
   ]
  },
  {
   "cell_type": "markdown",
   "metadata": {},
   "source": [
    "### \"#EutanasiaNo\""
   ]
  },
  {
   "cell_type": "code",
   "execution_count": 132,
   "metadata": {
    "scrolled": true
   },
   "outputs": [
    {
     "name": "stdout",
     "output_type": "stream",
     "text": [
      "585\n"
     ]
    }
   ],
   "source": [
    "#---------------------------------------------------------------------------\n",
    "#EutanasiaNo\n",
    "#---------------------------------------------------------------------------\n",
    "\n",
    "consumer_key = 'XXXXXXXXXXXXXXXXXXXXXXXXX'\n",
    "consumer_secret = 'XXXXXXXXXXXXXXXXXXXXXXXXX'\n",
    "access_token = 'XXXXXXXXXXXXXXXXXXXXXXXXX'\n",
    "access_secret = 'XXXXXXXXXXXXXXXXXXXXXXXXX'\n",
    "auth = tweepy.OAuthHandler(consumer_key, consumer_secret)\n",
    "auth.set_access_token(access_token, access_secret)\n",
    "api = tweepy.API(auth)\n",
    "\n",
    "#EutanasiaNo 1339700782539681792 23:35 \n",
    "#EutanasiaNo 1339576720765022210 15:22\n",
    "\n",
    "lista4 = []\n",
    "tweets = tweepy.Cursor(api.search,\n",
    "          q=\"#EutanasiaNo filter:retweets\",\n",
    "          lang=\"es\",\n",
    "          place_id = \"España\",\n",
    "          since_id = 1339576720765022210,\n",
    "          max_id = 1339700782539681792).items()\n",
    "for status in tweets:\n",
    "    lista4.append(status._json)\n",
    "print(len(lista4))"
   ]
  },
  {
   "cell_type": "markdown",
   "metadata": {},
   "source": [
    "### \"#eutanasiaNo\""
   ]
  },
  {
   "cell_type": "code",
   "execution_count": 153,
   "metadata": {
    "scrolled": true
   },
   "outputs": [
    {
     "name": "stdout",
     "output_type": "stream",
     "text": [
      "470\n"
     ]
    }
   ],
   "source": [
    "#---------------------------------------------------------------------------\n",
    "#EutanasiaNo\n",
    "#---------------------------------------------------------------------------\n",
    "\n",
    "consumer_key = \"XXXXXXXXXXXXXXXXXXXXXXXXX\"\n",
    "consumer_secret = \"XXXXXXXXXXXXXXXXXXXXXXXXX\"\n",
    "access_token = \"XXXXXXXXXXXXXXXXXXXXXXXXX\"\n",
    "access_secret = \"XXXXXXXXXXXXXXXXXXXXXXXXX\"\n",
    "auth = tweepy.OAuthHandler(consumer_key, consumer_secret)\n",
    "auth.set_access_token(access_token, access_secret)\n",
    "api = tweepy.API(auth)\n",
    "\n",
    "#eutanasiaNo 1339587063495049218 16:03\n",
    "#eutanasiaNo 1339690411946876929 22:54\n",
    "\n",
    "lista5 = []\n",
    "tweets = tweepy.Cursor(api.search,\n",
    "          q=\"#eutanasiaNo filter:retweets\",\n",
    "          lang=\"es\",\n",
    "          place_id = \"España\",\n",
    "          since_id = 1339587063495049218,\n",
    "          max_id = 1339690411946876929).items()\n",
    "for status in tweets:\n",
    "    lista5.append(status._json)\n",
    "print(len(lista5))"
   ]
  },
  {
   "cell_type": "markdown",
   "metadata": {},
   "source": [
    "### \"BBDD\""
   ]
  },
  {
   "cell_type": "markdown",
   "metadata": {},
   "source": [
    "En este punto crearemos un dataframe donde guardaremos todos los retweets y el peso de los mismos aparecerá como suma de retweets y favoritos."
   ]
  },
  {
   "cell_type": "code",
   "execution_count": 161,
   "metadata": {
    "scrolled": false
   },
   "outputs": [
    {
     "data": {
      "text/html": [
       "<div>\n",
       "<style scoped>\n",
       "    .dataframe tbody tr th:only-of-type {\n",
       "        vertical-align: middle;\n",
       "    }\n",
       "\n",
       "    .dataframe tbody tr th {\n",
       "        vertical-align: top;\n",
       "    }\n",
       "\n",
       "    .dataframe thead th {\n",
       "        text-align: right;\n",
       "    }\n",
       "</style>\n",
       "<table border=\"1\" class=\"dataframe\">\n",
       "  <thead>\n",
       "    <tr style=\"text-align: right;\">\n",
       "      <th></th>\n",
       "      <th>user</th>\n",
       "      <th>user_rt</th>\n",
       "      <th>weight</th>\n",
       "      <th>idd</th>\n",
       "    </tr>\n",
       "  </thead>\n",
       "  <tbody>\n",
       "    <tr>\n",
       "      <th>0</th>\n",
       "      <td>Jessica38796289</td>\n",
       "      <td>sanchezcastejon</td>\n",
       "      <td>1313</td>\n",
       "      <td>1339587082193260546</td>\n",
       "    </tr>\n",
       "    <tr>\n",
       "      <th>1</th>\n",
       "      <td>Maritza09725361</td>\n",
       "      <td>Camila_RojasV</td>\n",
       "      <td>892</td>\n",
       "      <td>1339622767516397574</td>\n",
       "    </tr>\n",
       "    <tr>\n",
       "      <th>2</th>\n",
       "      <td>costas_montes</td>\n",
       "      <td>JOSEMANUELSOTO1</td>\n",
       "      <td>802</td>\n",
       "      <td>1339490975681536000</td>\n",
       "    </tr>\n",
       "    <tr>\n",
       "      <th>3</th>\n",
       "      <td>CorVas2</td>\n",
       "      <td>anaalonsogonza1</td>\n",
       "      <td>48</td>\n",
       "      <td>1339685644533194752</td>\n",
       "    </tr>\n",
       "    <tr>\n",
       "      <th>4</th>\n",
       "      <td>pablxmp</td>\n",
       "      <td>sanchezcastejon</td>\n",
       "      <td>1313</td>\n",
       "      <td>1339587082193260546</td>\n",
       "    </tr>\n",
       "    <tr>\n",
       "      <th>...</th>\n",
       "      <td>...</td>\n",
       "      <td>...</td>\n",
       "      <td>...</td>\n",
       "      <td>...</td>\n",
       "    </tr>\n",
       "    <tr>\n",
       "      <th>20923</th>\n",
       "      <td>Cuchita20692492</td>\n",
       "      <td>victoriah991</td>\n",
       "      <td>127</td>\n",
       "      <td>1339512983941238785</td>\n",
       "    </tr>\n",
       "    <tr>\n",
       "      <th>20924</th>\n",
       "      <td>HuarteFelipe</td>\n",
       "      <td>victoriah991</td>\n",
       "      <td>127</td>\n",
       "      <td>1339512983941238785</td>\n",
       "    </tr>\n",
       "    <tr>\n",
       "      <th>20925</th>\n",
       "      <td>MonasterioAlba</td>\n",
       "      <td>MaeItkors_MI0</td>\n",
       "      <td>111</td>\n",
       "      <td>1339460505149329409</td>\n",
       "    </tr>\n",
       "    <tr>\n",
       "      <th>20926</th>\n",
       "      <td>Thomy200261</td>\n",
       "      <td>francisferrisol</td>\n",
       "      <td>21</td>\n",
       "      <td>1339580433139441664</td>\n",
       "    </tr>\n",
       "    <tr>\n",
       "      <th>20927</th>\n",
       "      <td>_BIUE_Blrd_two</td>\n",
       "      <td>nochedlluvia2</td>\n",
       "      <td>54</td>\n",
       "      <td>1339570011724234752</td>\n",
       "    </tr>\n",
       "  </tbody>\n",
       "</table>\n",
       "<p>20928 rows × 4 columns</p>\n",
       "</div>"
      ],
      "text/plain": [
       "                  user          user_rt  weight                  idd\n",
       "0      Jessica38796289  sanchezcastejon    1313  1339587082193260546\n",
       "1      Maritza09725361    Camila_RojasV     892  1339622767516397574\n",
       "2        costas_montes  JOSEMANUELSOTO1     802  1339490975681536000\n",
       "3              CorVas2  anaalonsogonza1      48  1339685644533194752\n",
       "4              pablxmp  sanchezcastejon    1313  1339587082193260546\n",
       "...                ...              ...     ...                  ...\n",
       "20923  Cuchita20692492     victoriah991     127  1339512983941238785\n",
       "20924     HuarteFelipe     victoriah991     127  1339512983941238785\n",
       "20925   MonasterioAlba    MaeItkors_MI0     111  1339460505149329409\n",
       "20926      Thomy200261  francisferrisol      21  1339580433139441664\n",
       "20927   _BIUE_Blrd_two    nochedlluvia2      54  1339570011724234752\n",
       "\n",
       "[20928 rows x 4 columns]"
      ]
     },
     "execution_count": 161,
     "metadata": {},
     "output_type": "execute_result"
    }
   ],
   "source": [
    "import pandas as pd\n",
    "user = []\n",
    "user_rt = []\n",
    "weight = []\n",
    "idd = []\n",
    "\n",
    "big_lista = [lista, lista1, lista2, lista3, lista4, lista5]\n",
    "\n",
    "#Guardamos todos los elementos involucrados en el estudio en listas \n",
    "#Se define el peso como la suma de retweets y favoritos\n",
    "for lis in big_lista:\n",
    "    for i in range(len(lis)):\n",
    "        if lis[i]['truncated'] == False:\n",
    "            user.append(lis[i]['user']['screen_name'])\n",
    "            user_rt.append(lis[i]['retweeted_status']['user']['screen_name'])\n",
    "            weight.append(lis[i]['retweet_count'] + lis[i]['favorite_count'])\n",
    "            idd.append(lis[i]['retweeted_status']['id'])\n",
    "\n",
    "\n",
    "#Creamos un diccionario\n",
    "dic = { \"user\" : user,\n",
    "        \"user_rt\": user_rt,\n",
    "        \"weight\": weight,\n",
    "        \"idd\": idd}\n",
    "\n",
    "#Finalmente esta será el sataset final\n",
    "connect = pd.DataFrame(dic)\n",
    "connect"
   ]
  },
  {
   "cell_type": "code",
   "execution_count": 162,
   "metadata": {},
   "outputs": [],
   "source": [
    "#connect.to_csv('connect_17.csv')"
   ]
  },
  {
   "cell_type": "markdown",
   "metadata": {},
   "source": [
    "### Creación del GRAFO."
   ]
  },
  {
   "cell_type": "code",
   "execution_count": 170,
   "metadata": {},
   "outputs": [
    {
     "data": {
      "text/plain": [
       "12450"
      ]
     },
     "execution_count": 170,
     "metadata": {},
     "output_type": "execute_result"
    }
   ],
   "source": [
    "import networkx as nx\n",
    "\n",
    "#Creamos un grafo dirigido\n",
    "G = nx.DiGraph()\n",
    "\n",
    "#Realizamos un bucle para añadir las aristas\n",
    "for j in range(connect.shape[0]):\n",
    "     G.add_edge(connect['user'][j], connect['user_rt'][j])\n",
    "\n",
    "\n",
    "nodes=[] \n",
    "#Guardamos los nodos obtenidos en una lista\n",
    "for node in G.nodes.data():\n",
    "    nodes.append(node)\n",
    "\n",
    "#Mostramos la longitud de los nodos\n",
    "len(nodes)"
   ]
  },
  {
   "cell_type": "code",
   "execution_count": 171,
   "metadata": {},
   "outputs": [],
   "source": [
    "#Añadimos los pesos a los nodos.\n",
    "import numpy as np\n",
    "rt = np.unique(connect[\"user_rt\"])\n",
    "ID = np.unique(connect[\"idd\"])\n",
    "\n",
    "#Aquellos usuarios que retwitean algo tienen peso 1\n",
    "for j in connect[\"user\"]:\n",
    "    G.add_node(j, weight = 1)\n",
    "\n",
    "#Se sumará el número total de interacciones (favoritos y retweets) que han tenido los tweets de un usuario concreto\n",
    "for j in rt:    \n",
    "    sum_weight = 0\n",
    "    for k in list(np.unique(connect['idd'][connect['user_rt']==j])):\n",
    "        sum_weight += weight[idd.index(k)]    \n",
    "    G.add_node(j, weight = sum_weight)"
   ]
  },
  {
   "cell_type": "code",
   "execution_count": 173,
   "metadata": {},
   "outputs": [],
   "source": [
    "nx.write_graphml(G, \"./graph_eutanasia_17.graphml\")"
   ]
  }
 ],
 "metadata": {
  "kernelspec": {
   "display_name": "Python 3",
   "language": "python",
   "name": "python3"
  },
  "language_info": {
   "codemirror_mode": {
    "name": "ipython",
    "version": 3
   },
   "file_extension": ".py",
   "mimetype": "text/x-python",
   "name": "python",
   "nbconvert_exporter": "python",
   "pygments_lexer": "ipython3",
   "version": "3.8.5"
  }
 },
 "nbformat": 4,
 "nbformat_minor": 4
}
